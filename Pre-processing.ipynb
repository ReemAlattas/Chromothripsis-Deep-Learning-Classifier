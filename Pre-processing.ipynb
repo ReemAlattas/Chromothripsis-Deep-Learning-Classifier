{
 "cells": [
  {
   "cell_type": "markdown",
   "metadata": {},
   "source": [
    "# Title\n",
    "\n",
    "Introduction..."
   ]
  },
  {
   "cell_type": "markdown",
   "metadata": {},
   "source": [
    "## 1. Import libraries\n",
    "\n",
    "More talk..."
   ]
  },
  {
   "cell_type": "code",
   "execution_count": 19,
   "metadata": {},
   "outputs": [],
   "source": [
    "import pandas as pd\n",
    "from pdf2image import convert_from_path\n",
    "from PIL import Image\n",
    "import os\n",
    "import shutil"
   ]
  },
  {
   "cell_type": "markdown",
   "metadata": {},
   "source": [
    "## 2. Image pre-processing\n",
    "\n",
    "In this section, we ..."
   ]
  },
  {
   "cell_type": "code",
   "execution_count": 25,
   "metadata": {},
   "outputs": [],
   "source": [
    "# create temp folder to store the images\n",
    "os.mkdir(\"data/plots_pdf/temp\")"
   ]
  },
  {
   "cell_type": "code",
   "execution_count": 54,
   "metadata": {},
   "outputs": [],
   "source": [
    "# convert pdf files to images \n",
    "\n",
    "directory = \"data/plots_pdf\"\n",
    "destination = \"data/plots_pdf/temp\"\n",
    "\n",
    "for filename in os.listdir(directory):\n",
    "    if filename.endswith(\".pdf\"): \n",
    "        \n",
    "        # copy to temp folder\n",
    "        shutil.copy(directory + '/' + filename, destination + '/' + filename)\n",
    "        \n",
    "        # convert pdf file to 23 images\n",
    "        images = convert_from_path(directory + '/' + filename, 500)\n",
    "        for i, image in enumerate(images):\n",
    "            fname = destination + '/' + filename[:-4] + str(i) + '.png'\n",
    "            image.save(fname, \"PNG\")            \n",
    "            \n",
    "        # create a new blank image\n",
    "        new_image = Image.new('RGB',(4*1500, 6*500), (250,250,250))\n",
    "        \n",
    "        # create counters for the new image grid\n",
    "        row = 0\n",
    "        col = 0\n",
    "\n",
    "        # read the 23 images, resize, and merge them\n",
    "        image_arr = []*23\n",
    "        for i in range(23):\n",
    "            image_arr.append(Image.open(destination + '/' + filename[:-4] + str(i) + '.png'))\n",
    "            image_arr[i] = image_arr[i].resize((1500, 500))\n",
    "            new_image.paste(image_arr[i], (row*1500, col))\n",
    "            row += 1\n",
    "            if row == 4:\n",
    "                row = 0\n",
    "                col += 500\n",
    "    \n",
    "        new_image.save(\"images/\" + filename[:-4] + \"_merged_image.png\",\"PNG\")\n",
    "        \n",
    "        # remove from temp folder\n",
    "        for i in range(23):\n",
    "            os.remove(destination + '/' + filename[:-4] + str(i) + '.png')\n",
    "        \n",
    "        os.remove(destination + '/' + filename)"
   ]
  },
  {
   "cell_type": "markdown",
   "metadata": {},
   "source": [
    "## 3. Exploratory Data Analysis\n",
    "\n",
    "In this section, ..."
   ]
  },
  {
   "cell_type": "code",
   "execution_count": 18,
   "metadata": {},
   "outputs": [],
   "source": [
    "# convert txt file to csv\n",
    "read_file = pd.read_csv ('data/chromothripsis.txt')\n",
    "read_file.to_csv ('data/chromothripsis.csv', index=None)"
   ]
  },
  {
   "cell_type": "code",
   "execution_count": null,
   "metadata": {},
   "outputs": [],
   "source": []
  }
 ],
 "metadata": {
  "kernelspec": {
   "display_name": "Python 3",
   "language": "python",
   "name": "python3"
  },
  "language_info": {
   "codemirror_mode": {
    "name": "ipython",
    "version": 3
   },
   "file_extension": ".py",
   "mimetype": "text/x-python",
   "name": "python",
   "nbconvert_exporter": "python",
   "pygments_lexer": "ipython3",
   "version": "3.7.0"
  }
 },
 "nbformat": 4,
 "nbformat_minor": 2
}
